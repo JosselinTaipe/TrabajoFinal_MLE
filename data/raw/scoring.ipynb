

# Separate the features and the target variable
predict_train = model.predict_proba(X_train[variables])[:,1]
predict_test = model.predict_proba(X_test[variables])[:,1]


# Print scores on both
print("auc o Roc on training in Random Forest  data : {:.3f}".format(roc_auc_score(y_train, predict_train)))
print("auc o Roc on testing in Random Forest   data : {:.3f}".format(roc_auc_score(y_test, predict_test))) 

from sklearn.model_selection import StratifiedKFold

kf = StratifiedKFold(n_splits=5, random_state=1, shuffle=True)

scores = []
for train_index, test_index in kf.split(X[variables],y):
    X_train, X_test = X.loc[train_index,variables], X.loc[test_index,variables]
    y_train, y_test = y[train_index], y[test_index]
    
    scores.append(
        roc_auc_score(model.fit(X_train[variables], y_train).predict(X_test[variables]), y_test)
    )
print(scores)
    
np.mean(scores)

