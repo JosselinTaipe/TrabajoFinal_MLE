

#Cargando Librerias
!pip install missingpy

import sklearn.neighbors._base
import sys
sys.modules['sklearn.neighbors.base'] = sklearn.neighbors._base

# Import necessary libs

import pandas as pd
import numpy as np

# complementos
import warnings
import sys
warnings.filterwarnings('ignore')
from scipy import stats

# visualization
import seaborn as sns
import matplotlib.pyplot as plt

## modelos que usamos para imputar
from sklearn import linear_model
from collections import Counter
from sklearn.ensemble import IsolationForest
from missingpy import MissForest
from sklearn.neighbors import LocalOutlierFactor

# Preprocesar label
from sklearn import preprocessing
# Estandarizamos los datos
from sklearn.preprocessing import StandardScaler
# Normalizando los datos
from sklearn.preprocessing import MinMaxScaler

# para componentes principales
from sklearn.preprocessing import StandardScaler

# Para un modelo supervisado de ejemplo
from sklearn.model_selection import train_test_split
from sklearn.model_selection import StratifiedShuffleSplit
from sklearn.linear_model import LogisticRegression
from sklearn.ensemble import RandomForestClassifier


## Métricas de los modelos
from sklearn.metrics import confusion_matrix
from sklearn.metrics import auc
from sklearn.metrics import accuracy_score
from sklearn.metrics import precision_score
from sklearn.metrics import recall_score
from sklearn.metrics import roc_auc_score


# Common seed value to be used whenever required
seed = 16
np.random.seed(seed)

## Leyendo data 
df = pd.read_csv('TelcoCustomerChurn.csv', sep=',')

df.info()

#- Dimensiones para ver cuantas variables y observaciones tiene el dataset

df.shape

**Pregunta N02:**


Tenemos un dataset de 7043 registros y 21 variables:

La variable CustomerID es el identificador del cliente y TotalCharges es el importe total cobrado al cliente (Deberia ser float), excepto estas variables, el resto de variables se les asigna Object.

La variable SeniorCitizen , tenure, MonthlyCharges le asigna tipo entero, en realidad la varible SeniorCitizen es factor.

La variable dependiente o target a predecir (Churn) es dicotómica, toma valor YES en caso de abandono, NO en caso contrario, se trata por tanto de un problema de clasificación.

**Pregunta N03:**
**Analisis Exploratorio**

df.head()

#asignando las variables numericas
df['TotalCharges']=pd.to_numeric(df['TotalCharges'],errors = 'coerce')

#asignando las variables object
df['SeniorCitizen'] = df['SeniorCitizen'].astype( object )


df1 = pd.get_dummies(df, columns = ["gender"], drop_first = True)
df2 = pd.get_dummies(df, columns = ["Churn"], drop_first = True)



df['gender'] = df1['gender_Male'].astype( object )


df['Churn'] = df2['Churn_Yes'].astype( object )

df.info()

#- Variables cuantitativas para un análisis descriptivo

df.columns

#Verificando nulos
df.isnull().sum()

df.head()

#eliminamos los datos nulos de la variable TotalCharges por ser solo 11 elementos
dfn = df.dropna()

dfn.isnull().sum()

dfn.shape

dfn.info()

# Dataset characteristics
print("Number of instances in dataset = {}".format(dfn.shape[0]))
print("Total number of columns = {}".format(dfn.columns.shape[0]))
print("Column wise count of null values:-")
print(dfn.isnull().sum())

## Target

print(dfn['Churn'].value_counts())
print(dfn['Churn'].value_counts(normalize=True))

#- Media por columna de data frame
dfn.mean(axis=0)

#- Mediana por columna de data frame
dfn.median(axis=0) 

#Graficos
#Variable MonthlyCharges
fig, (ax1)= plt.subplots(1,1,figsize=(7,5))
sns.distplot(dfn['MonthlyCharges'], ax = ax1, color = 'grey')
plt.ylabel('Frecuencia')
plt.xlabel('MonthlyCharges')

plt.axvline(dfn['MonthlyCharges'].median(), color='red', label = 'Mediana')
plt.axvline(dfn['MonthlyCharges'].mean(), color='blue', label = 'Media')
plt.axvline(dfn['MonthlyCharges'].mode()[0], color='black', label = 'Moda')

plt.legend(loc = "upper left", bbox_to_anchor=(1.0, 1.05), shadow=True)


#Graficos
#Variable tenure
fig, (ax1)= plt.subplots(1,1,figsize=(7,5))
sns.distplot(dfn['tenure'], ax = ax1, color = 'grey')
plt.ylabel('Frecuencia')
plt.xlabel('tenure')

plt.axvline(dfn['tenure'].median(), color='red', label = 'Mediana')
plt.axvline(dfn['tenure'].mean(), color='blue', label = 'Media')
plt.axvline(dfn['tenure'].mode()[0], color='black', label = 'Moda')

plt.legend(loc = "upper left", bbox_to_anchor=(1.0, 1.05), shadow=True)

#Graficos
#Variable SeniorCitizen
fig, (ax1)= plt.subplots(1,1,figsize=(7,5))
sns.distplot(dfn['TotalCharges'], ax = ax1, color = 'grey')
plt.ylabel('Frecuencia')
plt.xlabel('TotalCharges')

plt.axvline(dfn['TotalCharges'].median(), color='red', label = 'Mediana')
plt.axvline(dfn['TotalCharges'].mean(), color='blue', label = 'Media')
plt.axvline(dfn['TotalCharges'].mode()[0], color='black', label = 'Moda')

plt.legend(loc = "upper left", bbox_to_anchor=(1.0, 1.05), shadow=True)

#- Box-plot

fig, (ax1)= plt.subplots(1,1,figsize=(10,5))
sns.boxplot(data=dfn.MonthlyCharges, orient="h", palette="magma"  )
plt.ylabel('MonthlyCharges')
plt.xlabel("");

#- Box-plot

fig, (ax1)= plt.subplots(1,1,figsize=(10,5))
sns.boxplot(data=dfn.tenure, orient="h", palette="magma"  )
plt.ylabel('tenure')
plt.xlabel("");

#- Box-plot

fig, (ax1)= plt.subplots(1,1,figsize=(10,5))
sns.boxplot(data=dfn.TotalCharges , orient="h", palette="magma"  )
plt.ylabel('TotalCharges')
plt.xlabel("");

-En las variables numéricas no se aprecian valores atípicos.

-En la variable “tenure” y “TotalCharges” existe una concentración elevada en los tramos de inferior valor.


# Histograma de TotalCharges

sns.set()
plt.figure(figsize=(16,8))
sns.distplot(dfn.TotalCharges , label="TotalCharges")
plt.xlabel('TotalCharges')
plt.legend()
plt.show()

# Histograma de tenure

sns.set()
plt.figure(figsize=(16,8))
sns.distplot(dfn.tenure , label="tenure")
plt.xlabel('tenure')
plt.legend()
plt.show()

# Histograma de MonthlyCharges
sns.set()
plt.figure(figsize=(16,8))
sns.distplot(dfn.MonthlyCharges , label="tenure")
plt.xlabel('MonthlyCharges')
plt.legend()
plt.show()
