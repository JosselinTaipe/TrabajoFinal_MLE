

from sklearn.model_selection import train_test_split

exclude = ['customerID','Churn']
y=dfn['Churn']
X=dfn.drop(exclude, axis=1)

X_train, X_test, y_train, y_test = train_test_split(X,y, test_size=0.20,random_state=1,stratify=y)

y_train.value_counts(normalize=True)

y_train.value_counts()

y_test.value_counts(normalize=True)

import collections as co
num_clase = co.Counter(y_train)
print(num_clase)
print('Clase negativa',num_clase[0]/len(y_train))
print('Clase positiva',num_clase[1]/len(y_train))

g = sns.countplot(y_train)
g.set_xticklabels(['No Fuga','Fuga'])
plt.show()
